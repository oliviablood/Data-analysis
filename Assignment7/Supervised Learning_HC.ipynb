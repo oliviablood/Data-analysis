{
 "cells": [
  {
   "cell_type": "markdown",
   "metadata": {},
   "source": [
    "## Assignment 7: Supervised learning\n",
    "###  Jiayu Chen (jic117)  Huan Chen (huc48)  Chang Tian (cht97)\n",
    "For the following two data sets, originating from the Irvine Machine Learning Repository (http://archive.ics.uci.edu/ml/):\n",
    "\n",
    "1) Iris (http://archive.ics.uci.edu/ml/datasets/Iris)\n",
    "\n",
    "2) Congressional Voting Records (http://archive.ics.uci.edu/ml/datasets/Congressional+Voting+Records)\n",
    "\n",
    "a) Build classification models based on each of these algorithms:\n",
    "\n",
    "Logistic Regression or SVM\n",
    "Random Forest or Boosting (i.e. Adaboost)\n",
    "CART (i.e. Decision Tree)\n",
    "The models should help in classification of types of iris flowers (1) and the parties of congressmen (2) based on flower properties and voting record, respectively. Clean up and discretize the data, if needed (if you need domain knowledge, you can read more about the data sets in the descriptions placed at UCI Repository). Make sure to try different learning algorithms and their parameters.\n",
    "\n",
    "Once you have learned models, check and report their classification accuracy (by means of a cross-validation method). Try to improve the accuracy by using\n",
    "\n",
    "b) feature selection,\n",
    "\n",
    "c) feature expansion (e.g. pairwise interactions, kernel trick), and,\n",
    "\n",
    "d) combine both together.\n",
    "\n",
    "Report the best classification accuracy that you have been able to achieve for each of the two data sets along with the methods that gave you the best accuracy. Make sure to summarize your observations and conclusions."
   ]
  },
  {
   "cell_type": "code",
   "execution_count": 2,
   "metadata": {},
   "outputs": [
    {
     "name": "stdout",
     "output_type": "stream",
     "text": [
      "dict_keys(['data', 'target', 'target_names', 'DESCR', 'feature_names'])\n"
     ]
    }
   ],
   "source": [
    "from sklearn.linear_model import LogisticRegression\n",
    "from sklearn.datasets import load_iris\n",
    "from sklearn import model_selection\n",
    "from sklearn.model_selection import cross_val_score, KFold, train_test_split\n",
    "from sklearn.ensemble import RandomForestClassifier\n",
    "from sklearn.feature_selection import SelectFromModel,SelectKBest, chi2\n",
    "from sklearn.tree import DecisionTreeClassifier\n",
    "from sklearn.svm import SVC\n",
    "from sklearn.preprocessing import PolynomialFeatures\n",
    "from sklearn.pipeline import make_pipeline\n",
    "from sklearn.model_selection import GridSearchCV\n",
    "import matplotlib.pyplot as plt\n",
    "import pandas as pd\n",
    "import math\n",
    "import seaborn as sns\n",
    "import numpy as np\n",
    "from sklearn.datasets import load_iris\n",
    "from sklearn.cluster import AgglomerativeClustering\n",
    "iris_dataset=load_iris()\n",
    "print(iris_dataset.keys())\n",
    "%matplotlib inline"
   ]
  },
  {
   "cell_type": "code",
   "execution_count": 3,
   "metadata": {},
   "outputs": [
    {
     "data": {
      "text/html": [
       "<div>\n",
       "<style scoped>\n",
       "    .dataframe tbody tr th:only-of-type {\n",
       "        vertical-align: middle;\n",
       "    }\n",
       "\n",
       "    .dataframe tbody tr th {\n",
       "        vertical-align: top;\n",
       "    }\n",
       "\n",
       "    .dataframe thead th {\n",
       "        text-align: right;\n",
       "    }\n",
       "</style>\n",
       "<table border=\"1\" class=\"dataframe\">\n",
       "  <thead>\n",
       "    <tr style=\"text-align: right;\">\n",
       "      <th></th>\n",
       "      <th>sepal length (cm)</th>\n",
       "      <th>sepal width (cm)</th>\n",
       "      <th>petal length (cm)</th>\n",
       "      <th>petal width (cm)</th>\n",
       "      <th>target</th>\n",
       "    </tr>\n",
       "  </thead>\n",
       "  <tbody>\n",
       "    <tr>\n",
       "      <th>0</th>\n",
       "      <td>5.1</td>\n",
       "      <td>3.5</td>\n",
       "      <td>1.4</td>\n",
       "      <td>0.2</td>\n",
       "      <td>0.0</td>\n",
       "    </tr>\n",
       "    <tr>\n",
       "      <th>1</th>\n",
       "      <td>4.9</td>\n",
       "      <td>3.0</td>\n",
       "      <td>1.4</td>\n",
       "      <td>0.2</td>\n",
       "      <td>0.0</td>\n",
       "    </tr>\n",
       "    <tr>\n",
       "      <th>2</th>\n",
       "      <td>4.7</td>\n",
       "      <td>3.2</td>\n",
       "      <td>1.3</td>\n",
       "      <td>0.2</td>\n",
       "      <td>0.0</td>\n",
       "    </tr>\n",
       "    <tr>\n",
       "      <th>3</th>\n",
       "      <td>4.6</td>\n",
       "      <td>3.1</td>\n",
       "      <td>1.5</td>\n",
       "      <td>0.2</td>\n",
       "      <td>0.0</td>\n",
       "    </tr>\n",
       "    <tr>\n",
       "      <th>4</th>\n",
       "      <td>5.0</td>\n",
       "      <td>3.6</td>\n",
       "      <td>1.4</td>\n",
       "      <td>0.2</td>\n",
       "      <td>0.0</td>\n",
       "    </tr>\n",
       "  </tbody>\n",
       "</table>\n",
       "</div>"
      ],
      "text/plain": [
       "   sepal length (cm)  sepal width (cm)  petal length (cm)  petal width (cm)  \\\n",
       "0                5.1               3.5                1.4               0.2   \n",
       "1                4.9               3.0                1.4               0.2   \n",
       "2                4.7               3.2                1.3               0.2   \n",
       "3                4.6               3.1                1.5               0.2   \n",
       "4                5.0               3.6                1.4               0.2   \n",
       "\n",
       "   target  \n",
       "0     0.0  \n",
       "1     0.0  \n",
       "2     0.0  \n",
       "3     0.0  \n",
       "4     0.0  "
      ]
     },
     "execution_count": 3,
     "metadata": {},
     "output_type": "execute_result"
    }
   ],
   "source": [
    "df = pd.DataFrame(data= np.c_[iris_dataset['data'],iris_dataset['target']], columns=iris_dataset['feature_names']+['target'])\n",
    "df.head()"
   ]
  },
  {
   "cell_type": "code",
   "execution_count": 4,
   "metadata": {},
   "outputs": [],
   "source": [
    "x=df.iloc[:, 0:4]\n",
    "y=df.iloc[:, 4]\n",
    "x_train, x_test, y_train, y_test = train_test_split(x, y, random_state=0)"
   ]
  },
  {
   "cell_type": "code",
   "execution_count": 5,
   "metadata": {},
   "outputs": [],
   "source": [
    "def tuningPara_crossValid(model, param_grid):\n",
    "    kfold = KFold(n_splits=5, random_state=0, shuffle=True)\n",
    "    grid_search = GridSearchCV(model, param_grid, cv=kfold)\n",
    "    grid_search.fit(x_train, y_train)\n",
    "    accuracy = grid_search.score(x_test, y_test)\n",
    "    print('Best parameters: {}'.format(grid_search.best_params_))\n",
    "    print('Best cross-validation score:', grid_search.best_score_)\n",
    "    print('The accuracy score is:', accuracy)"
   ]
  },
  {
   "cell_type": "markdown",
   "metadata": {},
   "source": [
    "### Logistic Regression: parameter tuning & cross validation"
   ]
  },
  {
   "cell_type": "code",
   "execution_count": 6,
   "metadata": {
    "scrolled": false
   },
   "outputs": [
    {
     "name": "stdout",
     "output_type": "stream",
     "text": [
      "Best parameters: {'C': 10, 'penalty': 'l2'}\n",
      "Best cross-validation score: 0.9732142857142857\n",
      "The accuracy score is: 0.9210526315789473\n"
     ]
    }
   ],
   "source": [
    "# tunning parameters\n",
    "param_grid = {'penalty':['l1', 'l2'], \n",
    "              'C': [0.001, 0.01, 0.1, 1, 10, 100]}\n",
    "\n",
    "tuningPara_crossValid(LogisticRegression(), param_grid)"
   ]
  },
  {
   "cell_type": "markdown",
   "metadata": {},
   "source": [
    "### Random Forest: parameter tuning & cross validation"
   ]
  },
  {
   "cell_type": "code",
   "execution_count": 7,
   "metadata": {},
   "outputs": [
    {
     "name": "stdout",
     "output_type": "stream",
     "text": [
      "Best parameters: {'max_depth': 4, 'n_estimators': 3}\n",
      "Best cross-validation score: 0.9642857142857143\n",
      "The accuracy score is: 0.9473684210526315\n"
     ]
    }
   ],
   "source": [
    "# tunning parameters \n",
    "# max_feature for classification problem is sqrt(n_features)\n",
    "param_grid = {'n_estimators': [2, 3, 4, 5],\n",
    "              'max_depth':[2, 3, 4, 5]}\n",
    "\n",
    "tuningPara_crossValid(RandomForestClassifier(max_features=2, n_jobs=-1), param_grid)"
   ]
  },
  {
   "cell_type": "markdown",
   "metadata": {},
   "source": [
    "### Decision Tree: parameter tuning & cross validation"
   ]
  },
  {
   "cell_type": "code",
   "execution_count": 8,
   "metadata": {},
   "outputs": [
    {
     "name": "stdout",
     "output_type": "stream",
     "text": [
      "Best parameters: {'max_depth': 3}\n",
      "Best cross-validation score: 0.9732142857142857\n",
      "The accuracy score is: 0.9736842105263158\n"
     ]
    }
   ],
   "source": [
    "param_grid = {'max_depth':[1, 2, 3, 4, 5]}\n",
    "\n",
    "tuningPara_crossValid(DecisionTreeClassifier(), param_grid)"
   ]
  },
  {
   "cell_type": "markdown",
   "metadata": {},
   "source": [
    "## Feature selection\n",
    "select three features: spal length, petal length, petal width"
   ]
  },
  {
   "cell_type": "code",
   "execution_count": 9,
   "metadata": {},
   "outputs": [
    {
     "data": {
      "text/html": [
       "<div>\n",
       "<style scoped>\n",
       "    .dataframe tbody tr th:only-of-type {\n",
       "        vertical-align: middle;\n",
       "    }\n",
       "\n",
       "    .dataframe tbody tr th {\n",
       "        vertical-align: top;\n",
       "    }\n",
       "\n",
       "    .dataframe thead th {\n",
       "        text-align: right;\n",
       "    }\n",
       "</style>\n",
       "<table border=\"1\" class=\"dataframe\">\n",
       "  <thead>\n",
       "    <tr style=\"text-align: right;\">\n",
       "      <th></th>\n",
       "      <th>sepal length (cm)</th>\n",
       "      <th>sepal width (cm)</th>\n",
       "      <th>petal length (cm)</th>\n",
       "      <th>petal width (cm)</th>\n",
       "      <th>target</th>\n",
       "    </tr>\n",
       "  </thead>\n",
       "  <tbody>\n",
       "    <tr>\n",
       "      <th>sepal length (cm)</th>\n",
       "      <td>1.000000</td>\n",
       "      <td>-0.109369</td>\n",
       "      <td>0.871754</td>\n",
       "      <td>0.817954</td>\n",
       "      <td>0.782561</td>\n",
       "    </tr>\n",
       "    <tr>\n",
       "      <th>petal length (cm)</th>\n",
       "      <td>0.871754</td>\n",
       "      <td>-0.420516</td>\n",
       "      <td>1.000000</td>\n",
       "      <td>0.962757</td>\n",
       "      <td>0.949043</td>\n",
       "    </tr>\n",
       "    <tr>\n",
       "      <th>petal width (cm)</th>\n",
       "      <td>0.817954</td>\n",
       "      <td>-0.356544</td>\n",
       "      <td>0.962757</td>\n",
       "      <td>1.000000</td>\n",
       "      <td>0.956464</td>\n",
       "    </tr>\n",
       "    <tr>\n",
       "      <th>target</th>\n",
       "      <td>0.782561</td>\n",
       "      <td>-0.419446</td>\n",
       "      <td>0.949043</td>\n",
       "      <td>0.956464</td>\n",
       "      <td>1.000000</td>\n",
       "    </tr>\n",
       "  </tbody>\n",
       "</table>\n",
       "</div>"
      ],
      "text/plain": [
       "                   sepal length (cm)  sepal width (cm)  petal length (cm)  \\\n",
       "sepal length (cm)           1.000000         -0.109369           0.871754   \n",
       "petal length (cm)           0.871754         -0.420516           1.000000   \n",
       "petal width (cm)            0.817954         -0.356544           0.962757   \n",
       "target                      0.782561         -0.419446           0.949043   \n",
       "\n",
       "                   petal width (cm)    target  \n",
       "sepal length (cm)          0.817954  0.782561  \n",
       "petal length (cm)          0.962757  0.949043  \n",
       "petal width (cm)           1.000000  0.956464  \n",
       "target                     0.956464  1.000000  "
      ]
     },
     "execution_count": 9,
     "metadata": {},
     "output_type": "execute_result"
    },
    {
     "data": {
      "image/png": "[encoded data removed]",
      "text/plain": [
       "<matplotlib.figure.Figure at 0x113a96a90>"
      ]
     },
     "metadata": {},
     "output_type": "display_data"
    }
   ],
   "source": [
    "corrmat = df.corr()\n",
    "sns.heatmap(corrmat, vmax=0.9, square=True)\n",
    "corrmat[corrmat['target']>0.5]"
   ]
  },
  {
   "cell_type": "code",
   "execution_count": 10,
   "metadata": {},
   "outputs": [],
   "source": [
    "from sklearn.feature_selection import SelectKBest\n",
    "from sklearn.feature_selection import chi2\n",
    "x_new = SelectKBest(chi2, k=3).fit_transform(x, y)"
   ]
  },
  {
   "cell_type": "code",
   "execution_count": 11,
   "metadata": {},
   "outputs": [],
   "source": [
    "x1_train, x1_test, y1_train, y1_test = train_test_split(x_new, y, random_state=0)"
   ]
  },
  {
   "cell_type": "code",
   "execution_count": 12,
   "metadata": {},
   "outputs": [],
   "source": [
    "def tuningPara_crossValid1(model, param_grid):\n",
    "    kfold = KFold(n_splits=5, random_state=0, shuffle=True)\n",
    "    grid_search = GridSearchCV(model, param_grid, cv=kfold)\n",
    "    grid_search.fit(x1_train, y1_train)\n",
    "    accuracy = grid_search.score(x1_test, y1_test)\n",
    "    print('Best parameters: {}'.format(grid_search.best_params_))\n",
    "    print('Best cross-validation score:', grid_search.best_score_)\n",
    "    print('The accuracy score is:', accuracy)"
   ]
  },
  {
   "cell_type": "code",
   "execution_count": 13,
   "metadata": {},
   "outputs": [
    {
     "name": "stdout",
     "output_type": "stream",
     "text": [
      "Best parameters: {'C': 10, 'penalty': 'l1'}\n",
      "Best cross-validation score: 0.9821428571428571\n",
      "The accuracy score is: 0.9736842105263158\n"
     ]
    }
   ],
   "source": [
    "# Logistic Regression: parameter tuning & cross validation\n",
    "# tunning parameters\n",
    "param_grid = {'penalty':['l1', 'l2'], \n",
    "              'C': [0.001, 0.01, 0.1, 1, 10, 100]}\n",
    "\n",
    "tuningPara_crossValid1(LogisticRegression(), param_grid)"
   ]
  },
  {
   "cell_type": "code",
   "execution_count": 14,
   "metadata": {},
   "outputs": [
    {
     "name": "stdout",
     "output_type": "stream",
     "text": [
      "Best parameters: {'max_depth': 2, 'n_estimators': 4}\n",
      "Best cross-validation score: 0.9642857142857143\n",
      "The accuracy score is: 0.8947368421052632\n"
     ]
    }
   ],
   "source": [
    "# Random Forest: parameter tuning & cross validation\n",
    "# tunning parameters \n",
    "# max_feature for classification problem is sqrt(n_features)\n",
    "param_grid = {'n_estimators': [2, 3, 4, 5],\n",
    "              'max_depth':[2, 3, 4, 5]}\n",
    "\n",
    "tuningPara_crossValid1(RandomForestClassifier(max_features=2, n_jobs=-1), param_grid)"
   ]
  },
  {
   "cell_type": "code",
   "execution_count": 15,
   "metadata": {},
   "outputs": [
    {
     "name": "stdout",
     "output_type": "stream",
     "text": [
      "Best parameters: {'max_depth': 3}\n",
      "Best cross-validation score: 0.9732142857142857\n",
      "The accuracy score is: 0.9736842105263158\n"
     ]
    }
   ],
   "source": [
    "# Decision Tree: parameter tuning & cross validation\n",
    "param_grid = {'max_depth':[1, 2, 3, 4, 5]}\n",
    "tuningPara_crossValid1(DecisionTreeClassifier(), param_grid)"
   ]
  },
  {
   "cell_type": "markdown",
   "metadata": {},
   "source": [
    "## feature expansion"
   ]
  },
  {
   "cell_type": "code",
   "execution_count": 16,
   "metadata": {},
   "outputs": [],
   "source": [
    "x=df.iloc[:, 0:4]\n",
    "y=df.iloc[:, 4]\n",
    "\n",
    "# pairwise interactions\n",
    "poly = PolynomialFeatures(interaction_only=True,include_bias = False)\n",
    "x=poly.fit_transform(x)\n",
    "\n",
    "x_train, x_test, y_train, y_test = train_test_split(x, y, random_state=0)"
   ]
  },
  {
   "cell_type": "code",
   "execution_count": 17,
   "metadata": {},
   "outputs": [
    {
     "name": "stdout",
     "output_type": "stream",
     "text": [
      "\n",
      " Logistic Regression \n",
      "\n",
      "Best parameters: {'C': 10, 'penalty': 'l1'}\n",
      "Best cross-validation score: 0.9732142857142857\n",
      "The accuracy score is: 0.9736842105263158\n",
      "None\n",
      "\n",
      " Random Forest \n",
      "\n",
      "Best parameters: {'max_depth': 2, 'n_estimators': 5}\n",
      "Best cross-validation score: 0.9642857142857143\n",
      "The accuracy score is: 0.9736842105263158\n",
      "None\n",
      "\n",
      " Decision Tree \n",
      "\n",
      "Best parameters: {'max_depth': 4}\n",
      "Best cross-validation score: 0.9732142857142857\n",
      "The accuracy score is: 0.9736842105263158\n",
      "None\n"
     ]
    }
   ],
   "source": [
    "def tuningPara_crossValid1(model, param_grid):\n",
    "    kfold = KFold(n_splits=5, random_state=0, shuffle=True)\n",
    "    grid_search = GridSearchCV(model, param_grid, cv=kfold)\n",
    "    grid_search.fit(x_train, y_train)\n",
    "    accuracy = grid_search.score(x_test, y_test)\n",
    "    print('Best parameters: {}'.format(grid_search.best_params_))\n",
    "    print('Best cross-validation score:', grid_search.best_score_)\n",
    "    print('The accuracy score is:', accuracy)\n",
    "\n",
    "# Logistic Regression: parameter tuning & cross validation\n",
    "# tunning parameters\n",
    "param_grid = {'penalty':['l1', 'l2'], \n",
    "              'C': [0.001, 0.01, 0.1, 1, 10, 100]}\n",
    "\n",
    "print('\\n Logistic Regression \\n')\n",
    "print(tuningPara_crossValid1(LogisticRegression(), param_grid))\n",
    "\n",
    "# Random Forest: parameter tuning & cross validation\n",
    "# tunning parameters \n",
    "# max_feature for classification problem is sqrt(n_features)\n",
    "param_grid = {'n_estimators': [2, 3, 4, 5],\n",
    "              'max_depth':[2, 3, 4, 5]}\n",
    "print('\\n Random Forest \\n')\n",
    "print(tuningPara_crossValid1(RandomForestClassifier(max_features=2, n_jobs=-1), param_grid))\n",
    "\n",
    "# Decision Tree: parameter tuning & cross validation\n",
    "param_grid = {'max_depth':[1, 2, 3, 4, 5]}\n",
    "\n",
    "print('\\n Decision Tree \\n')\n",
    "print(tuningPara_crossValid1(DecisionTreeClassifier(), param_grid))"
   ]
  },
  {
   "cell_type": "markdown",
   "metadata": {},
   "source": [
    " ## combine feature selection (excluding petal-width) and feature expansion together"
   ]
  },
  {
   "cell_type": "code",
   "execution_count": 18,
   "metadata": {},
   "outputs": [],
   "source": [
    "x=df.iloc[:, range(0,4)]\n",
    "y=df.iloc[:, 4]\n",
    "# feature selection\n",
    "x = SelectKBest(chi2, k=3).fit_transform(x, y)"
   ]
  },
  {
   "cell_type": "code",
   "execution_count": 19,
   "metadata": {
    "scrolled": true
   },
   "outputs": [
    {
     "data": {
      "text/plain": [
       "array([[ 5.1 ,  1.4 ,  0.2 ,  7.14,  1.02,  0.28],\n",
       "       [ 4.9 ,  1.4 ,  0.2 ,  6.86,  0.98,  0.28],\n",
       "       [ 4.7 ,  1.3 ,  0.2 ,  6.11,  0.94,  0.26],\n",
       "       [ 4.6 ,  1.5 ,  0.2 ,  6.9 ,  0.92,  0.3 ],\n",
       "       [ 5.  ,  1.4 ,  0.2 ,  7.  ,  1.  ,  0.28],\n",
       "       [ 5.4 ,  1.7 ,  0.4 ,  9.18,  2.16,  0.68],\n",
       "       [ 4.6 ,  1.4 ,  0.3 ,  6.44,  1.38,  0.42],\n",
       "       [ 5.  ,  1.5 ,  0.2 ,  7.5 ,  1.  ,  0.3 ],\n",
       "       [ 4.4 ,  1.4 ,  0.2 ,  6.16,  0.88,  0.28],\n",
       "       [ 4.9 ,  1.5 ,  0.1 ,  7.35,  0.49,  0.15],\n",
       "       [ 5.4 ,  1.5 ,  0.2 ,  8.1 ,  1.08,  0.3 ],\n",
       "       [ 4.8 ,  1.6 ,  0.2 ,  7.68,  0.96,  0.32],\n",
       "       [ 4.8 ,  1.4 ,  0.1 ,  6.72,  0.48,  0.14],\n",
       "       [ 4.3 ,  1.1 ,  0.1 ,  4.73,  0.43,  0.11],\n",
       "       [ 5.8 ,  1.2 ,  0.2 ,  6.96,  1.16,  0.24],\n",
       "       [ 5.7 ,  1.5 ,  0.4 ,  8.55,  2.28,  0.6 ],\n",
       "       [ 5.4 ,  1.3 ,  0.4 ,  7.02,  2.16,  0.52],\n",
       "       [ 5.1 ,  1.4 ,  0.3 ,  7.14,  1.53,  0.42],\n",
       "       [ 5.7 ,  1.7 ,  0.3 ,  9.69,  1.71,  0.51],\n",
       "       [ 5.1 ,  1.5 ,  0.3 ,  7.65,  1.53,  0.45],\n",
       "       [ 5.4 ,  1.7 ,  0.2 ,  9.18,  1.08,  0.34],\n",
       "       [ 5.1 ,  1.5 ,  0.4 ,  7.65,  2.04,  0.6 ],\n",
       "       [ 4.6 ,  1.  ,  0.2 ,  4.6 ,  0.92,  0.2 ],\n",
       "       [ 5.1 ,  1.7 ,  0.5 ,  8.67,  2.55,  0.85],\n",
       "       [ 4.8 ,  1.9 ,  0.2 ,  9.12,  0.96,  0.38],\n",
       "       [ 5.  ,  1.6 ,  0.2 ,  8.  ,  1.  ,  0.32],\n",
       "       [ 5.  ,  1.6 ,  0.4 ,  8.  ,  2.  ,  0.64],\n",
       "       [ 5.2 ,  1.5 ,  0.2 ,  7.8 ,  1.04,  0.3 ],\n",
       "       [ 5.2 ,  1.4 ,  0.2 ,  7.28,  1.04,  0.28],\n",
       "       [ 4.7 ,  1.6 ,  0.2 ,  7.52,  0.94,  0.32],\n",
       "       [ 4.8 ,  1.6 ,  0.2 ,  7.68,  0.96,  0.32],\n",
       "       [ 5.4 ,  1.5 ,  0.4 ,  8.1 ,  2.16,  0.6 ],\n",
       "       [ 5.2 ,  1.5 ,  0.1 ,  7.8 ,  0.52,  0.15],\n",
       "       [ 5.5 ,  1.4 ,  0.2 ,  7.7 ,  1.1 ,  0.28],\n",
       "       [ 4.9 ,  1.5 ,  0.1 ,  7.35,  0.49,  0.15],\n",
       "       [ 5.  ,  1.2 ,  0.2 ,  6.  ,  1.  ,  0.24],\n",
       "       [ 5.5 ,  1.3 ,  0.2 ,  7.15,  1.1 ,  0.26],\n",
       "       [ 4.9 ,  1.5 ,  0.1 ,  7.35,  0.49,  0.15],\n",
       "       [ 4.4 ,  1.3 ,  0.2 ,  5.72,  0.88,  0.26],\n",
       "       [ 5.1 ,  1.5 ,  0.2 ,  7.65,  1.02,  0.3 ],\n",
       "       [ 5.  ,  1.3 ,  0.3 ,  6.5 ,  1.5 ,  0.39],\n",
       "       [ 4.5 ,  1.3 ,  0.3 ,  5.85,  1.35,  0.39],\n",
       "       [ 4.4 ,  1.3 ,  0.2 ,  5.72,  0.88,  0.26],\n",
       "       [ 5.  ,  1.6 ,  0.6 ,  8.  ,  3.  ,  0.96],\n",
       "       [ 5.1 ,  1.9 ,  0.4 ,  9.69,  2.04,  0.76],\n",
       "       [ 4.8 ,  1.4 ,  0.3 ,  6.72,  1.44,  0.42],\n",
       "       [ 5.1 ,  1.6 ,  0.2 ,  8.16,  1.02,  0.32],\n",
       "       [ 4.6 ,  1.4 ,  0.2 ,  6.44,  0.92,  0.28],\n",
       "       [ 5.3 ,  1.5 ,  0.2 ,  7.95,  1.06,  0.3 ],\n",
       "       [ 5.  ,  1.4 ,  0.2 ,  7.  ,  1.  ,  0.28],\n",
       "       [ 7.  ,  4.7 ,  1.4 , 32.9 ,  9.8 ,  6.58],\n",
       "       [ 6.4 ,  4.5 ,  1.5 , 28.8 ,  9.6 ,  6.75],\n",
       "       [ 6.9 ,  4.9 ,  1.5 , 33.81, 10.35,  7.35],\n",
       "       [ 5.5 ,  4.  ,  1.3 , 22.  ,  7.15,  5.2 ],\n",
       "       [ 6.5 ,  4.6 ,  1.5 , 29.9 ,  9.75,  6.9 ],\n",
       "       [ 5.7 ,  4.5 ,  1.3 , 25.65,  7.41,  5.85],\n",
       "       [ 6.3 ,  4.7 ,  1.6 , 29.61, 10.08,  7.52],\n",
       "       [ 4.9 ,  3.3 ,  1.  , 16.17,  4.9 ,  3.3 ],\n",
       "       [ 6.6 ,  4.6 ,  1.3 , 30.36,  8.58,  5.98],\n",
       "       [ 5.2 ,  3.9 ,  1.4 , 20.28,  7.28,  5.46],\n",
       "       [ 5.  ,  3.5 ,  1.  , 17.5 ,  5.  ,  3.5 ],\n",
       "       [ 5.9 ,  4.2 ,  1.5 , 24.78,  8.85,  6.3 ],\n",
       "       [ 6.  ,  4.  ,  1.  , 24.  ,  6.  ,  4.  ],\n",
       "       [ 6.1 ,  4.7 ,  1.4 , 28.67,  8.54,  6.58],\n",
       "       [ 5.6 ,  3.6 ,  1.3 , 20.16,  7.28,  4.68],\n",
       "       [ 6.7 ,  4.4 ,  1.4 , 29.48,  9.38,  6.16],\n",
       "       [ 5.6 ,  4.5 ,  1.5 , 25.2 ,  8.4 ,  6.75],\n",
       "       [ 5.8 ,  4.1 ,  1.  , 23.78,  5.8 ,  4.1 ],\n",
       "       [ 6.2 ,  4.5 ,  1.5 , 27.9 ,  9.3 ,  6.75],\n",
       "       [ 5.6 ,  3.9 ,  1.1 , 21.84,  6.16,  4.29],\n",
       "       [ 5.9 ,  4.8 ,  1.8 , 28.32, 10.62,  8.64],\n",
       "       [ 6.1 ,  4.  ,  1.3 , 24.4 ,  7.93,  5.2 ],\n",
       "       [ 6.3 ,  4.9 ,  1.5 , 30.87,  9.45,  7.35],\n",
       "       [ 6.1 ,  4.7 ,  1.2 , 28.67,  7.32,  5.64],\n",
       "       [ 6.4 ,  4.3 ,  1.3 , 27.52,  8.32,  5.59],\n",
       "       [ 6.6 ,  4.4 ,  1.4 , 29.04,  9.24,  6.16],\n",
       "       [ 6.8 ,  4.8 ,  1.4 , 32.64,  9.52,  6.72],\n",
       "       [ 6.7 ,  5.  ,  1.7 , 33.5 , 11.39,  8.5 ],\n",
       "       [ 6.  ,  4.5 ,  1.5 , 27.  ,  9.  ,  6.75],\n",
       "       [ 5.7 ,  3.5 ,  1.  , 19.95,  5.7 ,  3.5 ],\n",
       "       [ 5.5 ,  3.8 ,  1.1 , 20.9 ,  6.05,  4.18],\n",
       "       [ 5.5 ,  3.7 ,  1.  , 20.35,  5.5 ,  3.7 ],\n",
       "       [ 5.8 ,  3.9 ,  1.2 , 22.62,  6.96,  4.68],\n",
       "       [ 6.  ,  5.1 ,  1.6 , 30.6 ,  9.6 ,  8.16],\n",
       "       [ 5.4 ,  4.5 ,  1.5 , 24.3 ,  8.1 ,  6.75],\n",
       "       [ 6.  ,  4.5 ,  1.6 , 27.  ,  9.6 ,  7.2 ],\n",
       "       [ 6.7 ,  4.7 ,  1.5 , 31.49, 10.05,  7.05],\n",
       "       [ 6.3 ,  4.4 ,  1.3 , 27.72,  8.19,  5.72],\n",
       "       [ 5.6 ,  4.1 ,  1.3 , 22.96,  7.28,  5.33],\n",
       "       [ 5.5 ,  4.  ,  1.3 , 22.  ,  7.15,  5.2 ],\n",
       "       [ 5.5 ,  4.4 ,  1.2 , 24.2 ,  6.6 ,  5.28],\n",
       "       [ 6.1 ,  4.6 ,  1.4 , 28.06,  8.54,  6.44],\n",
       "       [ 5.8 ,  4.  ,  1.2 , 23.2 ,  6.96,  4.8 ],\n",
       "       [ 5.  ,  3.3 ,  1.  , 16.5 ,  5.  ,  3.3 ],\n",
       "       [ 5.6 ,  4.2 ,  1.3 , 23.52,  7.28,  5.46],\n",
       "       [ 5.7 ,  4.2 ,  1.2 , 23.94,  6.84,  5.04],\n",
       "       [ 5.7 ,  4.2 ,  1.3 , 23.94,  7.41,  5.46],\n",
       "       [ 6.2 ,  4.3 ,  1.3 , 26.66,  8.06,  5.59],\n",
       "       [ 5.1 ,  3.  ,  1.1 , 15.3 ,  5.61,  3.3 ],\n",
       "       [ 5.7 ,  4.1 ,  1.3 , 23.37,  7.41,  5.33],\n",
       "       [ 6.3 ,  6.  ,  2.5 , 37.8 , 15.75, 15.  ],\n",
       "       [ 5.8 ,  5.1 ,  1.9 , 29.58, 11.02,  9.69],\n",
       "       [ 7.1 ,  5.9 ,  2.1 , 41.89, 14.91, 12.39],\n",
       "       [ 6.3 ,  5.6 ,  1.8 , 35.28, 11.34, 10.08],\n",
       "       [ 6.5 ,  5.8 ,  2.2 , 37.7 , 14.3 , 12.76],\n",
       "       [ 7.6 ,  6.6 ,  2.1 , 50.16, 15.96, 13.86],\n",
       "       [ 4.9 ,  4.5 ,  1.7 , 22.05,  8.33,  7.65],\n",
       "       [ 7.3 ,  6.3 ,  1.8 , 45.99, 13.14, 11.34],\n",
       "       [ 6.7 ,  5.8 ,  1.8 , 38.86, 12.06, 10.44],\n",
       "       [ 7.2 ,  6.1 ,  2.5 , 43.92, 18.  , 15.25],\n",
       "       [ 6.5 ,  5.1 ,  2.  , 33.15, 13.  , 10.2 ],\n",
       "       [ 6.4 ,  5.3 ,  1.9 , 33.92, 12.16, 10.07],\n",
       "       [ 6.8 ,  5.5 ,  2.1 , 37.4 , 14.28, 11.55],\n",
       "       [ 5.7 ,  5.  ,  2.  , 28.5 , 11.4 , 10.  ],\n",
       "       [ 5.8 ,  5.1 ,  2.4 , 29.58, 13.92, 12.24],\n",
       "       [ 6.4 ,  5.3 ,  2.3 , 33.92, 14.72, 12.19],\n",
       "       [ 6.5 ,  5.5 ,  1.8 , 35.75, 11.7 ,  9.9 ],\n",
       "       [ 7.7 ,  6.7 ,  2.2 , 51.59, 16.94, 14.74],\n",
       "       [ 7.7 ,  6.9 ,  2.3 , 53.13, 17.71, 15.87],\n",
       "       [ 6.  ,  5.  ,  1.5 , 30.  ,  9.  ,  7.5 ],\n",
       "       [ 6.9 ,  5.7 ,  2.3 , 39.33, 15.87, 13.11],\n",
       "       [ 5.6 ,  4.9 ,  2.  , 27.44, 11.2 ,  9.8 ],\n",
       "       [ 7.7 ,  6.7 ,  2.  , 51.59, 15.4 , 13.4 ],\n",
       "       [ 6.3 ,  4.9 ,  1.8 , 30.87, 11.34,  8.82],\n",
       "       [ 6.7 ,  5.7 ,  2.1 , 38.19, 14.07, 11.97],\n",
       "       [ 7.2 ,  6.  ,  1.8 , 43.2 , 12.96, 10.8 ],\n",
       "       [ 6.2 ,  4.8 ,  1.8 , 29.76, 11.16,  8.64],\n",
       "       [ 6.1 ,  4.9 ,  1.8 , 29.89, 10.98,  8.82],\n",
       "       [ 6.4 ,  5.6 ,  2.1 , 35.84, 13.44, 11.76],\n",
       "       [ 7.2 ,  5.8 ,  1.6 , 41.76, 11.52,  9.28],\n",
       "       [ 7.4 ,  6.1 ,  1.9 , 45.14, 14.06, 11.59],\n",
       "       [ 7.9 ,  6.4 ,  2.  , 50.56, 15.8 , 12.8 ],\n",
       "       [ 6.4 ,  5.6 ,  2.2 , 35.84, 14.08, 12.32],\n",
       "       [ 6.3 ,  5.1 ,  1.5 , 32.13,  9.45,  7.65],\n",
       "       [ 6.1 ,  5.6 ,  1.4 , 34.16,  8.54,  7.84],\n",
       "       [ 7.7 ,  6.1 ,  2.3 , 46.97, 17.71, 14.03],\n",
       "       [ 6.3 ,  5.6 ,  2.4 , 35.28, 15.12, 13.44],\n",
       "       [ 6.4 ,  5.5 ,  1.8 , 35.2 , 11.52,  9.9 ],\n",
       "       [ 6.  ,  4.8 ,  1.8 , 28.8 , 10.8 ,  8.64],\n",
       "       [ 6.9 ,  5.4 ,  2.1 , 37.26, 14.49, 11.34],\n",
       "       [ 6.7 ,  5.6 ,  2.4 , 37.52, 16.08, 13.44],\n",
       "       [ 6.9 ,  5.1 ,  2.3 , 35.19, 15.87, 11.73],\n",
       "       [ 5.8 ,  5.1 ,  1.9 , 29.58, 11.02,  9.69],\n",
       "       [ 6.8 ,  5.9 ,  2.3 , 40.12, 15.64, 13.57],\n",
       "       [ 6.7 ,  5.7 ,  2.5 , 38.19, 16.75, 14.25],\n",
       "       [ 6.7 ,  5.2 ,  2.3 , 34.84, 15.41, 11.96],\n",
       "       [ 6.3 ,  5.  ,  1.9 , 31.5 , 11.97,  9.5 ],\n",
       "       [ 6.5 ,  5.2 ,  2.  , 33.8 , 13.  , 10.4 ],\n",
       "       [ 6.2 ,  5.4 ,  2.3 , 33.48, 14.26, 12.42],\n",
       "       [ 5.9 ,  5.1 ,  1.8 , 30.09, 10.62,  9.18]])"
      ]
     },
     "execution_count": 19,
     "metadata": {},
     "output_type": "execute_result"
    }
   ],
   "source": [
    "# feature expansion\n",
    "poly = PolynomialFeatures(interaction_only=True,include_bias = False)\n",
    "x=poly.fit_transform(x)\n",
    "x"
   ]
  },
  {
   "cell_type": "code",
   "execution_count": 20,
   "metadata": {},
   "outputs": [
    {
     "data": {
      "text/plain": [
       "array([[1.4 , 7.14, 1.02, 0.28],\n",
       "       [1.4 , 6.86, 0.98, 0.28],\n",
       "       [1.3 , 6.11, 0.94, 0.26],\n",
       "       [1.5 , 6.9 , 0.92, 0.3 ],\n",
       "       [1.4 , 7.  , 1.  , 0.28]])"
      ]
     },
     "execution_count": 20,
     "metadata": {},
     "output_type": "execute_result"
    }
   ],
   "source": [
    "# feature selection\n",
    "x_new = SelectKBest(chi2, k=4).fit_transform(x, y)\n",
    "x1_train, x1_test, y1_train, y1_test = train_test_split(x_new, y, random_state=0)\n",
    "x_new[0:5,:]"
   ]
  },
  {
   "cell_type": "code",
   "execution_count": 21,
   "metadata": {},
   "outputs": [
    {
     "name": "stdout",
     "output_type": "stream",
     "text": [
      "after feature expansion and selection\n",
      "\n",
      " Logistic Regression \n",
      "\n",
      "Best parameters: {'C': 10, 'penalty': 'l1'}\n",
      "Best cross-validation score: 0.9732142857142857\n",
      "The accuracy score is: 0.9736842105263158\n",
      "None\n",
      "\n",
      " Random Forest \n",
      "\n",
      "Best parameters: {'max_depth': 2, 'n_estimators': 3}\n",
      "Best cross-validation score: 0.9553571428571429\n",
      "The accuracy score is: 0.9736842105263158\n",
      "None\n",
      "\n",
      " Decision Tree \n",
      "\n",
      "Best parameters: {'max_depth': 4}\n",
      "Best cross-validation score: 0.9642857142857143\n",
      "The accuracy score is: 0.9736842105263158\n",
      "None\n"
     ]
    }
   ],
   "source": [
    "print(\"after feature expansion and selection\")\n",
    "\n",
    "def tuningPara_crossValid1(model, param_grid):\n",
    "    kfold = KFold(n_splits=5, random_state=0, shuffle=True)\n",
    "    grid_search = GridSearchCV(model, param_grid, cv=kfold)\n",
    "    grid_search.fit(x_train, y_train)\n",
    "    accuracy = grid_search.score(x_test, y_test)\n",
    "    print('Best parameters: {}'.format(grid_search.best_params_))\n",
    "    print('Best cross-validation score:', grid_search.best_score_)\n",
    "    print('The accuracy score is:', accuracy)\n",
    "\n",
    "# Logistic Regression: parameter tuning & cross validation\n",
    "# tunning parameters\n",
    "param_grid = {'penalty':['l1', 'l2'], \n",
    "              'C': [0.001, 0.01, 0.1, 1, 10, 100]}\n",
    "\n",
    "print('\\n Logistic Regression \\n')\n",
    "print(tuningPara_crossValid1(LogisticRegression(), param_grid))\n",
    "\n",
    "# Random Forest: parameter tuning & cross validation\n",
    "# tunning parameters \n",
    "# max_feature for classification problem is sqrt(n_features)\n",
    "param_grid = {'n_estimators': [2, 3, 4, 5],\n",
    "              'max_depth':[2, 3, 4, 5]}\n",
    "print('\\n Random Forest \\n')\n",
    "print(tuningPara_crossValid1(RandomForestClassifier(max_features=2, n_jobs=-1), param_grid))\n",
    "\n",
    "# Decision Tree: parameter tuning & cross validation\n",
    "param_grid = {'max_depth':[1, 2, 3, 4, 5]}\n",
    "\n",
    "print('\\n Decision Tree \\n')\n",
    "print(tuningPara_crossValid1(DecisionTreeClassifier(), param_grid))"
   ]
  },
  {
   "cell_type": "markdown",
   "metadata": {},
   "source": [
    "##  Observation"
   ]
  },
  {
   "cell_type": "markdown",
   "metadata": {},
   "source": [
    "For Iris dataset, the best accuracy is after the combination of feature selection and expansion, and the accuracy score of LogisticRegression is the same as that of Random Forest and Decision Tree (0.9736842105263158). \n",
    "However, the best cross-validation score is LogisticRegression(0.9821428571428571) after feature selection."
   ]
  },
  {
   "cell_type": "markdown",
   "metadata": {},
   "source": [
    "### From Results of Feature selection\n",
    "Feature selection can improve the performance of LogisticRegression. However, as for DecisionTree, tuning parameter can have a good performance enough even without feature selection. As for RandomForest, each features may have great impact on the target variables, so after selection, the accuracy is lower than that before selection. \n",
    "\n",
    "### From Results of Feature expansion\n",
    "After feature expansion, the performance of LogisticRegression is improved. However, as for DecisionTree, the result contains the same. And as for RandomForest, the accuracy is instead declined. Feature expansion increases model complexity, which results in the data noise and overfitting problem. It may not suit for RandomForest, so the performance of RandomForest is not as good as before.\n",
    "\n",
    "### Combine feature expansion and selection\n",
    "After the combination of feature selection and expention the cross-validation accuracy has decreased in tree models but increases in LogisticRession model. The decrease may be attributed to the relativly large number of features, which is not suitable for complex tree models but better when fitting simpler models."
   ]
  },
  {
   "cell_type": "markdown",
   "metadata": {},
   "source": [
    "# II. Congressional Voting Records"
   ]
  },
  {
   "cell_type": "code",
   "execution_count": 22,
   "metadata": {},
   "outputs": [],
   "source": [
    "# function of tuning parameters and cross validation \n",
    "def tuningPara_crossValid(model, param_grid, X_train, X_test, y_train, y_test):\n",
    "    kfold = KFold(n_splits=5, random_state=0, shuffle=True)\n",
    "    grid_search = GridSearchCV(model, param_grid, cv=kfold)\n",
    "    grid_search.fit(X_train, y_train)\n",
    "    accuracy = grid_search.score(X_test, y_test)\n",
    "    model_after_tune = grid_search.best_estimator_\n",
    "    print('Best parameters: {}'.format(grid_search.best_params_))\n",
    "    print('Best cross-validation score:', grid_search.best_score_)\n",
    "    print('The accuracy score is:', accuracy)\n",
    "    return model_after_tune"
   ]
  },
  {
   "cell_type": "code",
   "execution_count": 23,
   "metadata": {},
   "outputs": [
    {
     "ename": "FileNotFoundError",
     "evalue": "File b'house-votes-84.csv' does not exist",
     "output_type": "error",
     "traceback": [
      "\u001b[0;31m---------------------------------------------------------------------------\u001b[0m",
      "\u001b[0;31mFileNotFoundError\u001b[0m                         Traceback (most recent call last)",
      "\u001b[0;32m<ipython-input-23-a578b07f1c19>\u001b[0m in \u001b[0;36m<module>\u001b[0;34m()\u001b[0m\n\u001b[0;32m----> 1\u001b[0;31m \u001b[0mvoting\u001b[0m \u001b[0;34m=\u001b[0m \u001b[0mpd\u001b[0m\u001b[0;34m.\u001b[0m\u001b[0mread_csv\u001b[0m\u001b[0;34m(\u001b[0m\u001b[0;34m'house-votes-84.csv'\u001b[0m\u001b[0;34m,\u001b[0m \u001b[0mheader\u001b[0m\u001b[0;34m=\u001b[0m\u001b[0;32mNone\u001b[0m\u001b[0;34m)\u001b[0m\u001b[0;34m\u001b[0m\u001b[0m\n\u001b[0m\u001b[1;32m      2\u001b[0m \u001b[0mvoting\u001b[0m\u001b[0;34m.\u001b[0m\u001b[0mreplace\u001b[0m\u001b[0;34m(\u001b[0m\u001b[0;34m'n'\u001b[0m\u001b[0;34m,\u001b[0m\u001b[0;36m0\u001b[0m\u001b[0;34m,\u001b[0m \u001b[0minplace\u001b[0m\u001b[0;34m=\u001b[0m\u001b[0;32mTrue\u001b[0m\u001b[0;34m)\u001b[0m\u001b[0;34m\u001b[0m\u001b[0m\n\u001b[1;32m      3\u001b[0m \u001b[0mvoting\u001b[0m\u001b[0;34m.\u001b[0m\u001b[0mreplace\u001b[0m\u001b[0;34m(\u001b[0m\u001b[0;34m'y'\u001b[0m\u001b[0;34m,\u001b[0m\u001b[0;36m1\u001b[0m\u001b[0;34m,\u001b[0m \u001b[0minplace\u001b[0m\u001b[0;34m=\u001b[0m\u001b[0;32mTrue\u001b[0m\u001b[0;34m)\u001b[0m\u001b[0;34m\u001b[0m\u001b[0m\n\u001b[1;32m      4\u001b[0m \u001b[0mvoting\u001b[0m\u001b[0;34m.\u001b[0m\u001b[0mreplace\u001b[0m\u001b[0;34m(\u001b[0m\u001b[0;34m'?'\u001b[0m\u001b[0;34m,\u001b[0m \u001b[0;36m2\u001b[0m\u001b[0;34m,\u001b[0m\u001b[0minplace\u001b[0m\u001b[0;34m=\u001b[0m\u001b[0;32mTrue\u001b[0m\u001b[0;34m)\u001b[0m\u001b[0;34m\u001b[0m\u001b[0m\n\u001b[1;32m      5\u001b[0m \u001b[0mvoting\u001b[0m\u001b[0;34m.\u001b[0m\u001b[0mreplace\u001b[0m\u001b[0;34m(\u001b[0m\u001b[0;34m'republican'\u001b[0m\u001b[0;34m,\u001b[0m \u001b[0;36m0\u001b[0m\u001b[0;34m,\u001b[0m \u001b[0minplace\u001b[0m\u001b[0;34m=\u001b[0m\u001b[0;32mTrue\u001b[0m\u001b[0;34m)\u001b[0m\u001b[0;34m\u001b[0m\u001b[0m\n",
      "\u001b[0;32m/usr/local/lib/python3.6/site-packages/pandas/io/parsers.py\u001b[0m in \u001b[0;36mparser_f\u001b[0;34m(filepath_or_buffer, sep, delimiter, header, names, index_col, usecols, squeeze, prefix, mangle_dupe_cols, dtype, engine, converters, true_values, false_values, skipinitialspace, skiprows, nrows, na_values, keep_default_na, na_filter, verbose, skip_blank_lines, parse_dates, infer_datetime_format, keep_date_col, date_parser, dayfirst, iterator, chunksize, compression, thousands, decimal, lineterminator, quotechar, quoting, escapechar, comment, encoding, dialect, tupleize_cols, error_bad_lines, warn_bad_lines, skipfooter, skip_footer, doublequote, delim_whitespace, as_recarray, compact_ints, use_unsigned, low_memory, buffer_lines, memory_map, float_precision)\u001b[0m\n\u001b[1;32m    707\u001b[0m                     skip_blank_lines=skip_blank_lines)\n\u001b[1;32m    708\u001b[0m \u001b[0;34m\u001b[0m\u001b[0m\n\u001b[0;32m--> 709\u001b[0;31m         \u001b[0;32mreturn\u001b[0m \u001b[0m_read\u001b[0m\u001b[0;34m(\u001b[0m\u001b[0mfilepath_or_buffer\u001b[0m\u001b[0;34m,\u001b[0m \u001b[0mkwds\u001b[0m\u001b[0;34m)\u001b[0m\u001b[0;34m\u001b[0m\u001b[0m\n\u001b[0m\u001b[1;32m    710\u001b[0m \u001b[0;34m\u001b[0m\u001b[0m\n\u001b[1;32m    711\u001b[0m     \u001b[0mparser_f\u001b[0m\u001b[0;34m.\u001b[0m\u001b[0m__name__\u001b[0m \u001b[0;34m=\u001b[0m \u001b[0mname\u001b[0m\u001b[0;34m\u001b[0m\u001b[0m\n",
      "\u001b[0;32m/usr/local/lib/python3.6/site-packages/pandas/io/parsers.py\u001b[0m in \u001b[0;36m_read\u001b[0;34m(filepath_or_buffer, kwds)\u001b[0m\n\u001b[1;32m    447\u001b[0m \u001b[0;34m\u001b[0m\u001b[0m\n\u001b[1;32m    448\u001b[0m     \u001b[0;31m# Create the parser.\u001b[0m\u001b[0;34m\u001b[0m\u001b[0;34m\u001b[0m\u001b[0m\n\u001b[0;32m--> 449\u001b[0;31m     \u001b[0mparser\u001b[0m \u001b[0;34m=\u001b[0m \u001b[0mTextFileReader\u001b[0m\u001b[0;34m(\u001b[0m\u001b[0mfilepath_or_buffer\u001b[0m\u001b[0;34m,\u001b[0m \u001b[0;34m**\u001b[0m\u001b[0mkwds\u001b[0m\u001b[0;34m)\u001b[0m\u001b[0;34m\u001b[0m\u001b[0m\n\u001b[0m\u001b[1;32m    450\u001b[0m \u001b[0;34m\u001b[0m\u001b[0m\n\u001b[1;32m    451\u001b[0m     \u001b[0;32mif\u001b[0m \u001b[0mchunksize\u001b[0m \u001b[0;32mor\u001b[0m \u001b[0miterator\u001b[0m\u001b[0;34m:\u001b[0m\u001b[0;34m\u001b[0m\u001b[0m\n",
      "\u001b[0;32m/usr/local/lib/python3.6/site-packages/pandas/io/parsers.py\u001b[0m in \u001b[0;36m__init__\u001b[0;34m(self, f, engine, **kwds)\u001b[0m\n\u001b[1;32m    816\u001b[0m             \u001b[0mself\u001b[0m\u001b[0;34m.\u001b[0m\u001b[0moptions\u001b[0m\u001b[0;34m[\u001b[0m\u001b[0;34m'has_index_names'\u001b[0m\u001b[0;34m]\u001b[0m \u001b[0;34m=\u001b[0m \u001b[0mkwds\u001b[0m\u001b[0;34m[\u001b[0m\u001b[0;34m'has_index_names'\u001b[0m\u001b[0;34m]\u001b[0m\u001b[0;34m\u001b[0m\u001b[0m\n\u001b[1;32m    817\u001b[0m \u001b[0;34m\u001b[0m\u001b[0m\n\u001b[0;32m--> 818\u001b[0;31m         \u001b[0mself\u001b[0m\u001b[0;34m.\u001b[0m\u001b[0m_make_engine\u001b[0m\u001b[0;34m(\u001b[0m\u001b[0mself\u001b[0m\u001b[0;34m.\u001b[0m\u001b[0mengine\u001b[0m\u001b[0;34m)\u001b[0m\u001b[0;34m\u001b[0m\u001b[0m\n\u001b[0m\u001b[1;32m    819\u001b[0m \u001b[0;34m\u001b[0m\u001b[0m\n\u001b[1;32m    820\u001b[0m     \u001b[0;32mdef\u001b[0m \u001b[0mclose\u001b[0m\u001b[0;34m(\u001b[0m\u001b[0mself\u001b[0m\u001b[0;34m)\u001b[0m\u001b[0;34m:\u001b[0m\u001b[0;34m\u001b[0m\u001b[0m\n",
      "\u001b[0;32m/usr/local/lib/python3.6/site-packages/pandas/io/parsers.py\u001b[0m in \u001b[0;36m_make_engine\u001b[0;34m(self, engine)\u001b[0m\n\u001b[1;32m   1047\u001b[0m     \u001b[0;32mdef\u001b[0m \u001b[0m_make_engine\u001b[0m\u001b[0;34m(\u001b[0m\u001b[0mself\u001b[0m\u001b[0;34m,\u001b[0m \u001b[0mengine\u001b[0m\u001b[0;34m=\u001b[0m\u001b[0;34m'c'\u001b[0m\u001b[0;34m)\u001b[0m\u001b[0;34m:\u001b[0m\u001b[0;34m\u001b[0m\u001b[0m\n\u001b[1;32m   1048\u001b[0m         \u001b[0;32mif\u001b[0m \u001b[0mengine\u001b[0m \u001b[0;34m==\u001b[0m \u001b[0;34m'c'\u001b[0m\u001b[0;34m:\u001b[0m\u001b[0;34m\u001b[0m\u001b[0m\n\u001b[0;32m-> 1049\u001b[0;31m             \u001b[0mself\u001b[0m\u001b[0;34m.\u001b[0m\u001b[0m_engine\u001b[0m \u001b[0;34m=\u001b[0m \u001b[0mCParserWrapper\u001b[0m\u001b[0;34m(\u001b[0m\u001b[0mself\u001b[0m\u001b[0;34m.\u001b[0m\u001b[0mf\u001b[0m\u001b[0;34m,\u001b[0m \u001b[0;34m**\u001b[0m\u001b[0mself\u001b[0m\u001b[0;34m.\u001b[0m\u001b[0moptions\u001b[0m\u001b[0;34m)\u001b[0m\u001b[0;34m\u001b[0m\u001b[0m\n\u001b[0m\u001b[1;32m   1050\u001b[0m         \u001b[0;32melse\u001b[0m\u001b[0;34m:\u001b[0m\u001b[0;34m\u001b[0m\u001b[0m\n\u001b[1;32m   1051\u001b[0m             \u001b[0;32mif\u001b[0m \u001b[0mengine\u001b[0m \u001b[0;34m==\u001b[0m \u001b[0;34m'python'\u001b[0m\u001b[0;34m:\u001b[0m\u001b[0;34m\u001b[0m\u001b[0m\n",
      "\u001b[0;32m/usr/local/lib/python3.6/site-packages/pandas/io/parsers.py\u001b[0m in \u001b[0;36m__init__\u001b[0;34m(self, src, **kwds)\u001b[0m\n\u001b[1;32m   1693\u001b[0m         \u001b[0mkwds\u001b[0m\u001b[0;34m[\u001b[0m\u001b[0;34m'allow_leading_cols'\u001b[0m\u001b[0;34m]\u001b[0m \u001b[0;34m=\u001b[0m \u001b[0mself\u001b[0m\u001b[0;34m.\u001b[0m\u001b[0mindex_col\u001b[0m \u001b[0;32mis\u001b[0m \u001b[0;32mnot\u001b[0m \u001b[0;32mFalse\u001b[0m\u001b[0;34m\u001b[0m\u001b[0m\n\u001b[1;32m   1694\u001b[0m \u001b[0;34m\u001b[0m\u001b[0m\n\u001b[0;32m-> 1695\u001b[0;31m         \u001b[0mself\u001b[0m\u001b[0;34m.\u001b[0m\u001b[0m_reader\u001b[0m \u001b[0;34m=\u001b[0m \u001b[0mparsers\u001b[0m\u001b[0;34m.\u001b[0m\u001b[0mTextReader\u001b[0m\u001b[0;34m(\u001b[0m\u001b[0msrc\u001b[0m\u001b[0;34m,\u001b[0m \u001b[0;34m**\u001b[0m\u001b[0mkwds\u001b[0m\u001b[0;34m)\u001b[0m\u001b[0;34m\u001b[0m\u001b[0m\n\u001b[0m\u001b[1;32m   1696\u001b[0m \u001b[0;34m\u001b[0m\u001b[0m\n\u001b[1;32m   1697\u001b[0m         \u001b[0;31m# XXX\u001b[0m\u001b[0;34m\u001b[0m\u001b[0;34m\u001b[0m\u001b[0m\n",
      "\u001b[0;32mpandas/_libs/parsers.pyx\u001b[0m in \u001b[0;36mpandas._libs.parsers.TextReader.__cinit__\u001b[0;34m()\u001b[0m\n",
      "\u001b[0;32mpandas/_libs/parsers.pyx\u001b[0m in \u001b[0;36mpandas._libs.parsers.TextReader._setup_parser_source\u001b[0;34m()\u001b[0m\n",
      "\u001b[0;31mFileNotFoundError\u001b[0m: File b'house-votes-84.csv' does not exist"
     ]
    }
   ],
   "source": [
    "voting = pd.read_csv('house-votes-84.csv', header=None)\n",
    "voting.replace('n',0, inplace=True)\n",
    "voting.replace('y',1, inplace=True)\n",
    "voting.replace('?', 2,inplace=True)\n",
    "voting.replace('republican', 0, inplace=True)\n",
    "voting.replace('democrat', 1, inplace=True)\n",
    "X_df= voting.iloc[:, range(1,17)]\n",
    "y_df = voting.iloc[:, 0]\n",
    "X_train, X_test, y_train, y_test = train_test_split(X_df, y_df, random_state=0)\n",
    "voting.head()"
   ]
  },
  {
   "cell_type": "markdown",
   "metadata": {},
   "source": [
    "### 1. Logistic Regression: parameter tuning & cross validation"
   ]
  },
  {
   "cell_type": "code",
   "execution_count": null,
   "metadata": {},
   "outputs": [],
   "source": [
    "param_grid = {'penalty':['l1', 'l2'], \n",
    "              'C': [0.001, 0.01, 0.1, 1, 10, 100]}\n",
    "print('Before feature selection:')\n",
    "LogRegModel = tuningPara_crossValid(LogisticRegression(), param_grid, X_train, X_test, y_train, y_test)"
   ]
  },
  {
   "cell_type": "markdown",
   "metadata": {},
   "source": [
    "#### Model-Based Feature Selection (then fit model)"
   ]
  },
  {
   "cell_type": "code",
   "execution_count": null,
   "metadata": {},
   "outputs": [],
   "source": [
    "print('\\nAfter feature selection:')\n",
    "model = SelectFromModel(LogisticRegression(), threshold='median')\n",
    "model.fit(X_train, y_train)\n",
    "X_train_l1 = model.transform(X_train)\n",
    "X_test_l1 = model.transform(X_test)\n",
    "print('Shape of X_train:', X_train_l1.shape)\n",
    "LogRegModel = tuningPara_crossValid(LogisticRegression(), param_grid, X_train_l1, X_test_l1, y_train, y_test)"
   ]
  },
  {
   "cell_type": "markdown",
   "metadata": {},
   "source": [
    "### 2. Random Forest: parameter tuning & cross validation"
   ]
  },
  {
   "cell_type": "code",
   "execution_count": null,
   "metadata": {},
   "outputs": [],
   "source": [
    "print('Before feature selection:')\n",
    "param_grid = {'n_estimators': [2, 3, 4, 5],\n",
    "              'max_depth':[2, 3, 4, 5]}\n",
    "RanForModel = tuningPara_crossValid(RandomForestClassifier(max_features=4, n_jobs=-1), param_grid, X_train, X_test, y_train, y_test)"
   ]
  },
  {
   "cell_type": "markdown",
   "metadata": {},
   "source": [
    "#### Feature Selection: Univariate Statistics (50% percentile) (then fit model)"
   ]
  },
  {
   "cell_type": "code",
   "execution_count": null,
   "metadata": {},
   "outputs": [],
   "source": [
    "from sklearn.feature_selection import SelectPercentile\n",
    "select = SelectPercentile(percentile=50) \n",
    "select.fit(X_train, y_train)\n",
    "X_train_selected = select.transform(X_train)\n",
    "X_test_selected = select.transform(X_test) \n",
    "print(\"X_train_selected.shape: {}\".format(X_train_selected.shape))\n",
    "print(\"feature selected result:\",select.get_support())\n",
    "\n",
    "print('after feature selection:')\n",
    "param_grid = {'n_estimators': [2, 3, 4, 5],\n",
    "              'max_depth':[2, 3, 4, 5]}\n",
    "RanForModel = tuningPara_crossValid(RandomForestClassifier(max_features=4, n_jobs=-1), param_grid, X_train_selected, X_test_selected, y_train, y_test)"
   ]
  },
  {
   "cell_type": "markdown",
   "metadata": {},
   "source": [
    "### 3. Decision Tree: parameter tuning & cross validation"
   ]
  },
  {
   "cell_type": "code",
   "execution_count": null,
   "metadata": {},
   "outputs": [],
   "source": [
    "param_grid = {'max_depth':[1, 2, 3, 4, 5]}\n",
    "clf = DecisionTreeClassifier()\n",
    "print('before feature selection:')\n",
    "DecTreeModel = tuningPara_crossValid(clf, param_grid, X_train, X_test, y_train, y_test)"
   ]
  },
  {
   "cell_type": "markdown",
   "metadata": {},
   "source": [
    "#### Feature Selection: Iterative Feature Selection"
   ]
  },
  {
   "cell_type": "code",
   "execution_count": null,
   "metadata": {},
   "outputs": [],
   "source": [
    "from sklearn.feature_selection import RFE\n",
    "print('After feature selection:')\n",
    "select = RFE(clf, n_features_to_select=8)\n",
    "select.fit(X_train, y_train)\n",
    "X_train_selected = select.transform(X_train)\n",
    "X_test_selected = select.transform(X_test)\n",
    "print(\"X_train_selected.shape: {}\".format(X_train_selected.shape))\n",
    "print(\"feature selected result:\",select.get_support())\n",
    "DecTreeModel = tuningPara_crossValid(clf, param_grid, X_train_selected, X_test_selected, y_train, y_test)"
   ]
  },
  {
   "cell_type": "markdown",
   "metadata": {},
   "source": [
    "## Feature Expantion"
   ]
  },
  {
   "cell_type": "code",
   "execution_count": null,
   "metadata": {},
   "outputs": [],
   "source": [
    "# pairwise interactions\n",
    "poly = PolynomialFeatures(interaction_only=True,include_bias = False)\n",
    "X_exp_inter=poly.fit_transform(X_df)\n",
    "print('Train dataset size after pairwise interactions(interaction_only):', X_exp_inter.shape)"
   ]
  },
  {
   "cell_type": "code",
   "execution_count": null,
   "metadata": {},
   "outputs": [],
   "source": [
    "# Feature expansion, interaction_only=False\n",
    "poly=PolynomialFeatures(interaction_only=False, include_bias = False)\n",
    "X_exp_inter_false=poly.fit_transform(X_df)\n",
    "print('Train dataset size after pairwise interactions(interaction_only=False):', X_exp_inter_false.shape)\n",
    "X_exp=poly.fit_transform(X_df)"
   ]
  },
  {
   "cell_type": "markdown",
   "metadata": {},
   "source": [
    "The number of feature is too large than before which is not good for prediction because the number of datasets is not very large. Thus, we want to do feature selection combine with feature selection.\n",
    "\n",
    "## Combine feature selection (excluding petal-width) and feature expansion together"
   ]
  },
  {
   "cell_type": "code",
   "execution_count": null,
   "metadata": {},
   "outputs": [],
   "source": [
    "def feature_selection_chi(n_features, X, y):\n",
    "    select_chi = SelectKBest(chi2, k=n_features)\n",
    "    X_chi_sele = select_chi.fit_transform(X, y)\n",
    "    print(select_chi.get_support())\n",
    "    X_train, X_test, y_train, y_test = train_test_split(X_chi_sele, y, random_state=0)\n",
    "    return X_train, X_test, y_train, y_test\n",
    "## feature selection from features after doing feature expantion\n",
    "X_train1, X_test1, y_train1, y_test1 = feature_selection_chi(25, X_exp_inter, y_df)\n",
    "X_train2, X_test2, y_train2, y_test2 = feature_selection_chi(25, X_exp_inter_false, y_df)"
   ]
  },
  {
   "cell_type": "code",
   "execution_count": null,
   "metadata": {},
   "outputs": [],
   "source": [
    "## fit models, do cross-validation and calculate accuracy scores after feature engineering\n",
    "print('Logistic regression model:')\n",
    "param_grid = {'penalty':['l1', 'l2'], \n",
    "              'C': [0.001, 0.01, 0.1, 1, 10, 100]}\n",
    "print('\\nThe result of interaction_only:')\n",
    "LogRegModel = tuningPara_crossValid(LogisticRegression(), param_grid, X_train1, X_test1, y_train1, y_test1)\n",
    "print('\\nThe result of interaction_only=false:')\n",
    "LogRegModel = tuningPara_crossValid(LogisticRegression(), param_grid, X_train2, X_test2, y_train2, y_test2)"
   ]
  },
  {
   "cell_type": "code",
   "execution_count": null,
   "metadata": {},
   "outputs": [],
   "source": [
    "print('Random Forest model :')\n",
    "param_grid = {'n_estimators': [2, 3, 4, 5],\n",
    "              'max_depth':[2, 3, 4, 5]}\n",
    "print('\\nThe result of interaction_only:')\n",
    "RanForModel = tuningPara_crossValid(RandomForestClassifier(max_features=4, n_jobs=-1), param_grid, X_train1, X_test1, y_train1, y_test1)\n",
    "print('\\nThe result of interaction_only=false:')\n",
    "RanForModel = tuningPara_crossValid(RandomForestClassifier(max_features=4, n_jobs=-1), param_grid, X_train2, X_test2, y_train2, y_test2)"
   ]
  },
  {
   "cell_type": "code",
   "execution_count": null,
   "metadata": {},
   "outputs": [],
   "source": [
    "param_grid = {'max_depth':[1, 2, 3, 4, 5]}\n",
    "clf = DecisionTreeClassifier()\n",
    "print('before feature selection:')\n",
    "print('\\nThe result of interaction_only:')\n",
    "DecTreeModel = tuningPara_crossValid(clf, param_grid, X_train1, X_test1, y_train1, y_test1)\n",
    "print('\\nThe result of interaction_only=false:')\n",
    "DecTreeModel = tuningPara_crossValid(clf, param_grid, X_train2, X_test2, y_train2, y_test2)"
   ]
  },
  {
   "cell_type": "markdown",
   "metadata": {},
   "source": [
    "## Oberservation\n",
    "\n",
    "For Congressional Voting dataset, the best accuracy is given by LogisticRegression (0.9724770642201835) with the combination of feature selection and expantion."
   ]
  },
  {
   "cell_type": "markdown",
   "metadata": {},
   "source": [
    "### From Results of Feature selection\n",
    "Feature selection can improve the performance of LogisticRegression. However, as for RandomForest and DecisionTree, tuning parameter can have a good performance enough even without feature selection.\n",
    "\n",
    "### From Results of Feature expantion\n",
    "The number of feature is too large than before which is not good for prediction because the number of datasets is not very large. Thus, we want to do feature selection combine with feature selection.\n",
    "\n",
    "### Combine feature expention and selection\n",
    "After the combination of feature selection and expention the accuracy has decreased in tree models but increase in LogisticRession model. The decrease may be attributed to the relativly large number of features, which is not suitable for complex tree models but better when fitting simpler models."
   ]
  },
  {
   "cell_type": "code",
   "execution_count": null,
   "metadata": {},
   "outputs": [],
   "source": []
  }
 ],
 "metadata": {
  "kernelspec": {
   "display_name": "Python 3",
   "language": "python",
   "name": "python3"
  },
  "language_info": {
   "codemirror_mode": {
    "name": "ipython",
    "version": 3
   },
   "file_extension": ".py",
   "mimetype": "text/x-python",
   "name": "python",
   "nbconvert_exporter": "python",
   "pygments_lexer": "ipython3",
   "version": "3.6.3"
  }
 },
 "nbformat": 4,
 "nbformat_minor": 2
}
